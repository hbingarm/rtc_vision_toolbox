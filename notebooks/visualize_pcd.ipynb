{
 "cells": [
  {
   "cell_type": "markdown",
   "metadata": {},
   "source": [
    "## Import Libraries and Utility Functions"
   ]
  },
  {
   "cell_type": "markdown",
   "metadata": {},
   "source": [
    "#### Import Libraries"
   ]
  },
  {
   "cell_type": "code",
   "execution_count": null,
   "metadata": {},
   "outputs": [],
   "source": [
    "from camera.zed_ros.zed_ros import ZedRos\n",
    "import cv2\n",
    "import numpy as np\n",
    "import glob\n",
    "import re\n",
    "import open3d as o3d\n",
    "import plotly.graph_objs as go\n",
    "import plotly.express as px\n",
    "import os\n",
    "from scipy.spatial.transform import Rotation as R\n"
   ]
  },
  {
   "cell_type": "markdown",
   "metadata": {},
   "source": [
    "#### Plotting points"
   ]
  },
  {
   "cell_type": "code",
   "execution_count": 18,
   "metadata": {},
   "outputs": [],
   "source": [
    "def plot_multi_np(plist):\n",
    "    \"\"\"\n",
    "    Plots multiple point clouds in the same plot using plotly\n",
    "    Assumes points are in meters coordinates.\n",
    "    \n",
    "    Args: \n",
    "        plist: list of np arrays of shape (N, 3)\n",
    "    \"\"\"\n",
    "    colors = [\n",
    "        '#1f77b4',  # muted blue\n",
    "        '#ff7f0e',  # safety orange\n",
    "        '#2ca02c',  # cooked asparagus green\n",
    "        '#d62728',  # brick red\n",
    "        '#9467bd',  # muted purple\n",
    "    ]\n",
    "    skip = 1\n",
    "    go_data = []\n",
    "    for i in range(len(plist)):\n",
    "        p_dp = plist[i]\n",
    "        plot = go.Scatter3d(x=p_dp[::skip,0], y=p_dp[::skip,1], z=p_dp[::skip,2], \n",
    "                     mode='markers', marker=dict(size=2, color=colors[i],\n",
    "                     symbol='circle'))\n",
    "        go_data.append(plot)\n",
    " \n",
    "    layout = go.Layout(\n",
    "        scene=dict(\n",
    "            aspectmode='data',\n",
    "        ),\n",
    "        height=1200,\n",
    "        width=1200,\n",
    "    )\n",
    "    fig = go.Figure(data=go_data, layout=layout)\n",
    "    \n",
    "    colors = ['red', 'green', 'blue']  # X, Y, Z axis colors\n",
    "    \n",
    "    fig = go.Figure()\n",
    "    \n",
    "    T = []\n",
    "    T.append(np.eye(4))\n",
    "\n",
    "    # for tf in T:\n",
    "    #     origin = tf[:3, 3]\n",
    "    #     axes = tf[:3, :3]\n",
    "\n",
    "    #     for i in range(3):\n",
    "    #         axis_end = origin + 0.3*axes[:, i]\n",
    "    #         fig.add_trace(go.Scatter3d(\n",
    "    #             x=[origin[0], axis_end[0]],\n",
    "    #             y=[origin[1], axis_end[1]],\n",
    "    #             z=[origin[2], axis_end[2]],\n",
    "    #             mode='lines',\n",
    "    #             line=dict(color=colors[i], width=4),\n",
    "    #             name='Axis ' + str(i+1)\n",
    "    #         ))\n",
    "\n",
    "    for plot in go_data:\n",
    "        fig.add_trace(plot)\n",
    "    \n",
    "    # add axis lines and camera view\n",
    "    fig.update_layout(scene=dict(\n",
    "        xaxis=dict(title='X'),\n",
    "        yaxis=dict(title='Y'),\n",
    "        zaxis=dict(title='Z'),\n",
    "        camera = dict(\n",
    "                      eye=dict(x=-1.30, y=0, z=-.25),\n",
    "                      center=dict(x=0., y=0, z=-0.25),\n",
    "                      up=dict(x=0, y=0, z=1),\n",
    "                     )\n",
    "        ),\n",
    "        height=800,\n",
    "        width=1200,\n",
    "    )    \n",
    "    \n",
    "    fig.show()"
   ]
  },
  {
   "cell_type": "markdown",
   "metadata": {},
   "source": [
    "#### Transform points using a TF matrix"
   ]
  },
  {
   "cell_type": "code",
   "execution_count": 19,
   "metadata": {},
   "outputs": [],
   "source": [
    "def transform_pcd(pcd, tf=None, tf_filepath=None):\n",
    "    \"\"\"\n",
    "    Transforms a point cloud using a transformation matrix\n",
    "    \n",
    "    Args:\n",
    "        pcd: open3d.geometry.PointCloud\n",
    "        tf: 4x4 numpy array\n",
    "        tf_filepath: str, path to a .npy file containing a 4x4 transformation matrix\n",
    "        \n",
    "    Returns:\n",
    "        open3d.geometry.PointCloud\n",
    "    \"\"\"\n",
    "    if tf_filepath is not None:\n",
    "        tf = np.load(tf_filepath)\n",
    "        \n",
    "    if tf is not None:\n",
    "        pcd.transform(tf)\n",
    "        \n",
    "    return pcd"
   ]
  },
  {
   "cell_type": "markdown",
   "metadata": {},
   "source": [
    "#### Crop Regions"
   ]
  },
  {
   "cell_type": "code",
   "execution_count": 20,
   "metadata": {},
   "outputs": [],
   "source": [
    "# table boundaries\n",
    "table_boundaries = {\n",
    "    'min': np.array([-0.5, -2, -1]),\n",
    "    'max': np.array([1.0, 2, 5])\n",
    "}\n",
    "\n",
    "# board boundaries\n",
    "board_boundaries = {\n",
    "    'min': np.array([0.0, -2, 0.15]),\n",
    "    'max': np.array([0.5, -0.0, 0.3])\n",
    "}\n",
    "\n",
    "# gripper boundaries\n",
    "gripper_boundaries = {\n",
    "    'min': np.array([0.2, -0.5, 0.3]),\n",
    "    'max': np.array([0.35, -0.05, .5])\n",
    "}\n",
    "\n",
    "ih_camera_focus = {\n",
    "    'min': np.array([-0.053, -0.028, 0.0]),\n",
    "    'max': np.array([0.053, 0.025, 0.3])\n",
    "}\n",
    "\n",
    "gripper_focus = {\n",
    "    'min': np.array([-0.2, -0.06, 0.0]),\n",
    "    'max': np.array([0.2, 0.06, 0.20]),\n",
    "\n",
    "}\n",
    "\n",
    "boundaries = {\n",
    "    'table': table_boundaries,\n",
    "    'board': board_boundaries,\n",
    "    'gripper': gripper_boundaries,\n",
    "    'ih_camera_focus': ih_camera_focus,\n",
    "    'gripper_focus': gripper_focus\n",
    "}"
   ]
  },
  {
   "cell_type": "code",
   "execution_count": 21,
   "metadata": {},
   "outputs": [],
   "source": [
    "def crop_points(points, boundary: str):\n",
    "    \"\"\"\n",
    "    Crops a point cloud based on a boundary\n",
    "    Assmes points are in meters coordinates.\n",
    "    \n",
    "    Args:\n",
    "        points:     np array of shape (N, 3)\n",
    "        boundary:   str, key in boundaries dict. \n",
    "                    Predefined boundaries are 'table', 'board', 'gripper'\n",
    "                    For custom boundaries, add to `boundaries` dict\n",
    "        \n",
    "    Returns:\n",
    "        np array of shape (M, 3)\n",
    "    \"\"\"\n",
    "    if boundary in boundaries:\n",
    "        world_boundaries = boundaries[boundary]\n",
    "    else:\n",
    "        print('Bounds not found')\n",
    "        return\n",
    "\n",
    "    #deep copy points\n",
    "    tmp_points = np.copy(points)\n",
    "    \n",
    "    tmp_points[np.isinf(tmp_points)] = np.nan\n",
    "    tmp_points[np.where(tmp_points[:, 0] < world_boundaries['min'][0])] = np.nan\n",
    "    tmp_points[np.where(tmp_points[:, 1] < world_boundaries['min'][1])] = np.nan\n",
    "    tmp_points[np.where(tmp_points[:, 2] < world_boundaries['min'][2])] = np.nan\n",
    "    tmp_points[np.where(tmp_points[:, 0] > world_boundaries['max'][0])] = np.nan\n",
    "    tmp_points[np.where(tmp_points[:, 1] > world_boundaries['max'][1])] = np.nan\n",
    "    tmp_points[np.where(tmp_points[:, 2] > world_boundaries['max'][2])] = np.nan\n",
    "    tmp_points = tmp_points[np.where(~np.isnan(tmp_points).any(axis=1))]\n",
    "    \n",
    "    return tmp_points"
   ]
  },
  {
   "cell_type": "markdown",
   "metadata": {},
   "source": [
    "## Visualization Blocks"
   ]
  },
  {
   "cell_type": "markdown",
   "metadata": {},
   "source": [
    "### Visualize execute data"
   ]
  },
  {
   "cell_type": "code",
   "execution_count": null,
   "metadata": {},
   "outputs": [],
   "source": [
    "def plot_results(time):\n",
    "    action = np.load(f'/home/mfi/repos/rtc_vision_toolbox/data/demonstrations/09-11-wp/execute_data/{time}/action_points.npy')\n",
    "    anchor = np.load(f'/home/mfi/repos/rtc_vision_toolbox/data/demonstrations/09-11-wp/execute_data/{time}/anchor_points.npy')\n",
    "    predicted = np.load(f'/home/mfi/repos/rtc_vision_toolbox/data/demonstrations/09-11-wp/execute_data/{time}/pred_place_points.npy')\n",
    "    plot_multi_np([action, anchor, predicted])"
   ]
  },
  {
   "cell_type": "code",
   "execution_count": null,
   "metadata": {},
   "outputs": [],
   "source": [
    "plot_results('1010_1643')"
   ]
  },
  {
   "cell_type": "markdown",
   "metadata": {},
   "source": [
    "### Visualize action/anchor points from .npz"
   ]
  },
  {
   "cell_type": "code",
   "execution_count": null,
   "metadata": {},
   "outputs": [],
   "source": [
    "npz = np.load(\"/home/mfi/repos/rtc_vision_toolbox/data/demonstrations/08-14-wp-test/learn_data/train/1_teleport_obj_points.npz\")\n",
    "# npz2 = np.load(\"/home/mfi/repos/rtc_vision_toolbox/data/demonstrations/09-19-usb/learn_data/train/5_teleport_obj_points.npz\")"
   ]
  },
  {
   "cell_type": "code",
   "execution_count": null,
   "metadata": {},
   "outputs": [],
   "source": [
    "# print(npz.files)\n",
    "\n",
    "action = npz['clouds'][np.where(npz['classes'] == 0)]\n",
    "anchor = npz['clouds'][np.where(npz['classes'] == 1)]\n",
    "\n",
    "plot_multi_np([action, anchor])"
   ]
  },
  {
   "cell_type": "markdown",
   "metadata": {},
   "source": [
    "### Visualize .png and .npy images"
   ]
  },
  {
   "cell_type": "code",
   "execution_count": null,
   "metadata": {},
   "outputs": [],
   "source": [
    "rgb = cv2.imread(\"/home/mfi/repos/rtc_vision_toolbox/camera/orbbec/tests/rgb_image.png\")\n",
    "rgb = cv2.cvtColor(rgb, cv2.COLOR_BGR2RGB)\n",
    "depth = np.load(\"/home/mfi/repos/rtc_vision_toolbox/camera/orbbec/tests/depth_data.npy\")\n",
    "\n",
    "rgb = rgb[55:600,100:875,:]\n",
    "depth = depth[55:600, 100:875]\n",
    "\n",
    "px.imshow(depth).show()\n",
    "px.imshow(rgb).show()"
   ]
  },
  {
   "cell_type": "markdown",
   "metadata": {},
   "source": [
    "### Visualize .ply or .npy point clouds"
   ]
  },
  {
   "cell_type": "code",
   "execution_count": null,
   "metadata": {},
   "outputs": [],
   "source": [
    "pcd = o3d.io.read_point_cloud(\"/home/mfi/repos/rtc_vision_toolbox/data/demonstrations/09-11-wp/execute_data/1010_1506/pcd_data/ih_camera_view_cam3_gripper_pointcloud.ply\")\n",
    "pcd = pcd.uniform_down_sample(50)\n",
    "print(np.asarray(pcd.points).shape)\n",
    "points = np.asarray(pcd.points)\n",
    "\n",
    "# points = np.load('/home/mfi/repos/rtc_vision_toolbox/data/demonstrations/09-11-wp/execute_data/1010_1510/anchortest.npy')\n",
    "plot_multi_np([points])"
   ]
  },
  {
   "cell_type": "markdown",
   "metadata": {},
   "source": [
    "## Estimate Error"
   ]
  },
  {
   "cell_type": "code",
   "execution_count": 33,
   "metadata": {},
   "outputs": [
    {
     "name": "stdout",
     "output_type": "stream",
     "text": [
      "\n",
      "WP-C 0814\t15/20 -> \n",
      "Average rotation error: 4.6°,\tAverage translation error: 1.67 mm\n"
     ]
    }
   ],
   "source": [
    "exp_dir = \"/home/mfi/repos/rtc_vision_toolbox/data/demonstrations/08-14-wp/execute_data/\"\n",
    "\n",
    "# get list of all dir names in exp_dir\n",
    "exp_id = [f for f in os.listdir(exp_dir) if os.path.isdir(os.path.join(exp_dir, f))]\n",
    "\n",
    "exp_id.sort()\n",
    "exp_id = [i for i in exp_id if '1109_1636' <= i <= '1109_1657']\n",
    "\n",
    "T_ee2target = [[1, 0, 0, 0],\n",
    "                [0, 1, 0, 0],\n",
    "                [0, 0, 1, 0.212],\n",
    "                [0, 0, 0, 1]]  \n",
    "\n",
    "total_t_error = 0\n",
    "total_rot_error = 0\n",
    "count = 0\n",
    "success_count = 0\n",
    "\n",
    "for id in exp_id:\n",
    "    try:\n",
    "        predicted_tf = np.load(f\"{exp_dir}/{id}/pose_data/placement_pose.npy\") @ T_ee2target\n",
    "        gt_tf = np.load(f\"{exp_dir}/{id}/pose_data/ground_truth.npy\") @ T_ee2target\n",
    "\n",
    "        rot_error = ((predicted_tf) @ np.linalg.inv(gt_tf))[:3,:3]\n",
    "        euler = R.from_matrix(rot_error).as_euler('xyz', degrees=True)\n",
    "        rot_error = np.round(np.max(np.abs(euler)),2)\n",
    "        t_error = np.linalg.norm(predicted_tf[:3,3] - gt_tf[:3,3])*1000\n",
    "        t_error2 = np.linalg.norm(predicted_tf[:2,3] - gt_tf[:2,3])*1000\n",
    "        \n",
    "        total_t_error += t_error2\n",
    "        total_rot_error += rot_error\n",
    "        count += 1\n",
    "        \n",
    "        success_file = f\"{exp_dir}/{id}/success.log\"\n",
    "        if os.path.exists(success_file):\n",
    "            with open(success_file, 'r') as f:\n",
    "                success = f.read().strip()\n",
    "                if success == 'y':\n",
    "                    success_count += 1\n",
    "        \n",
    "        # print(f\"\\nID: {id} Rotation error: {rot_error}\\u00B0,\\tTranslation error: {np.round(t_error,2)}, {np.round(t_error2,2)} mm\")    \n",
    "    except FileNotFoundError:\n",
    "        # print(f\"\\nID: {id} not found\")\n",
    "        pass\n",
    "\n",
    "print(f\"\\nWP-C 0814\\t{success_count}/{count} -> \\nAverage rotation error: {np.round(total_rot_error/count,2)}\\u00B0,\\tAverage translation error: {np.round(total_t_error/count,2)} mm\")"
   ]
  }
 ],
 "metadata": {
  "kernelspec": {
   "display_name": "venv",
   "language": "python",
   "name": "python3"
  },
  "language_info": {
   "codemirror_mode": {
    "name": "ipython",
    "version": 3
   },
   "file_extension": ".py",
   "mimetype": "text/x-python",
   "name": "python",
   "nbconvert_exporter": "python",
   "pygments_lexer": "ipython3",
   "version": "3.10.12"
  }
 },
 "nbformat": 4,
 "nbformat_minor": 2
}
